{
 "cells": [
  {
   "cell_type": "markdown",
   "metadata": {},
   "source": [
    "# Signal to Noise Ratio Measurements\n",
    "Very often we need the signal to noise ratio as indicator how good the spectrum quality is. There are several methods to calculate it."
   ]
  },
  {
   "cell_type": "code",
   "execution_count": 1,
   "metadata": {
    "collapsed": true
   },
   "outputs": [],
   "source": [
    "from pymsastro.stats import DER_SNR, RMSE_SNR\n",
    "\n",
    "import numpy as np"
   ]
  },
  {
   "cell_type": "markdown",
   "metadata": {},
   "source": [
    "Let's create a signal of mean 100 with normal distributed noise with standard deviation 2. This should result in a theoretical signal-to-noise ratio of 100/2 = 50."
   ]
  },
  {
   "cell_type": "code",
   "execution_count": 2,
   "metadata": {
    "collapsed": true
   },
   "outputs": [],
   "source": [
    "signal_with_noise = np.random.normal(100,2,100000)"
   ]
  },
  {
   "cell_type": "markdown",
   "metadata": {},
   "source": [
    "## DER_SNR\n",
    "\n",
    "One way of measuring the signal to noise based on median statistics is the DER_SNR scripy from http://www.stecf.org/software/ASTROsoft/DER_SNR/ . Let us see what it determines:"
   ]
  },
  {
   "cell_type": "code",
   "execution_count": 3,
   "metadata": {
    "collapsed": false
   },
   "outputs": [
    {
     "name": "stdout",
     "output_type": "stream",
     "text": [
      "signal: 99.98570125003134\n",
      "noise : 1.9980577265510255\n",
      "snr   : 50.04144771263592\n"
     ]
    }
   ],
   "source": [
    "snr1 = DER_SNR(signal_with_noise)\n",
    "print('signal: {0}'.format(snr1.signal))\n",
    "print('noise : {0}'.format(snr1.noise))\n",
    "print('snr   : {0}'.format(snr1.snr))"
   ]
  },
  {
   "cell_type": "markdown",
   "metadata": {},
   "source": [
    "## RMSE_SNR\n",
    "\n",
    "If one knows the theoretical value one can also compute the SNR by the absolute and relative RMSE. I'll call this RMSE_SNR. Since it requires a theoretical value for the signal the signal is fixed.\n",
    "\n",
    "*But the RMSE_SNR requires the reference spectrum to be known!*"
   ]
  },
  {
   "cell_type": "code",
   "execution_count": 4,
   "metadata": {
    "collapsed": false
   },
   "outputs": [
    {
     "name": "stdout",
     "output_type": "stream",
     "text": [
      "signal: 100\n",
      "noise : 2.0059698896287825\n",
      "snr   : 49.851196928237854\n"
     ]
    }
   ],
   "source": [
    "theoretical_signal = 100\n",
    "snr2 = RMSE_SNR(theoretical_signal, signal_with_noise)\n",
    "print('signal: {0}'.format(snr2.signal))\n",
    "print('noise : {0}'.format(snr2.noise))\n",
    "print('snr   : {0}'.format(snr2.snr))"
   ]
  },
  {
   "cell_type": "markdown",
   "metadata": {},
   "source": [
    "For easy usage I created a metaclass that defines an interface for SNR calculations and always provides the attributes\n",
    "\n",
    "- ``signal``\n",
    "- ``noise``\n",
    "- ``signal_to_noise_ratio`` (equivalent to ``snr``)\n",
    "\n",
    "Each of these properties is lazy and readonly. (see docorator_collection the lazyproperty_RO)\n",
    "\n",
    "\"DER_SNR\" as well as \"RMSE_SNR\" allow additional keywords for:\n",
    "\n",
    "- ``ignore_zeros``: Values of exactly zero will be deleted from the measured array\n",
    "- ``ignore_nan_inf``: Values of NaN and Inf will be deleted.\n",
    "- ``ignore_masked``: Masked values will be deleted (the measured array must have an attribute \"mask\" for the mask and \"data\" for the measured values. This is to allow ``np.ndarray``)\n",
    "- ``verbose``: Print which values are ignored.\n",
    "\n",
    "by default all of them are ``True``, except verbose which is ``False``"
   ]
  },
  {
   "cell_type": "markdown",
   "metadata": {},
   "source": [
    "# Useage of optional parameters\n",
    "\n",
    "Quick check that the work like expected.\n",
    "\n",
    "## Ignore_zeros:"
   ]
  },
  {
   "cell_type": "code",
   "execution_count": 5,
   "metadata": {
    "collapsed": false
   },
   "outputs": [
    {
     "name": "stdout",
     "output_type": "stream",
     "text": [
      "#################### DER ####################\n",
      "Without zeros\n",
      "100.0\n",
      "1.2105394\n",
      "82.6078027696\n",
      "With zeros\n",
      "100.0\n",
      "30.263485\n",
      "3.30431211078\n",
      "#################### RMSE ####################\n",
      "Without zeros\n",
      "100\n",
      "0.632455532034\n",
      "158.113883008\n",
      "With zeros\n",
      "100\n",
      "40.8289113252\n",
      "2.44924483055\n"
     ]
    }
   ],
   "source": [
    "a = np.array([100,0,101,99,100,100])\n",
    "\n",
    "print('#'*20 + ' DER ' + '#'*20)\n",
    "print('Without zeros')\n",
    "snr3 = DER_SNR(a, ignore_zeros=True)\n",
    "print(snr3.signal)\n",
    "print(snr3.noise)\n",
    "print(snr3.snr)\n",
    "\n",
    "print('With zeros')\n",
    "snr4 = DER_SNR(a, ignore_zeros=False)\n",
    "print(snr4.signal)\n",
    "print(snr4.noise)\n",
    "print(snr4.snr)\n",
    "\n",
    "print('#'*20 + ' RMSE ' + '#'*20)\n",
    "print('Without zeros')\n",
    "snr5 = RMSE_SNR(100, a, ignore_zeros=True)\n",
    "print(snr5.signal)\n",
    "print(snr5.noise)\n",
    "print(snr5.snr)\n",
    "\n",
    "print('With zeros')\n",
    "snr6 = RMSE_SNR(100, a, ignore_zeros=False)\n",
    "print(snr6.signal)\n",
    "print(snr6.noise)\n",
    "print(snr6.snr)"
   ]
  },
  {
   "cell_type": "markdown",
   "metadata": {},
   "source": [
    "## Ignore_nan_inf:"
   ]
  },
  {
   "cell_type": "code",
   "execution_count": 6,
   "metadata": {
    "collapsed": false
   },
   "outputs": [
    {
     "name": "stdout",
     "output_type": "stream",
     "text": [
      "#################### DER ####################\n",
      "Without nan\n",
      "100.0\n",
      "1.2105394\n",
      "82.6078027696\n",
      "With nan\n",
      "nan\n",
      "nan\n",
      "nan\n",
      "#################### RMSE ####################\n",
      "Without nan\n",
      "100\n",
      "0.632455532034\n",
      "158.113883008\n",
      "With nan\n",
      "100\n",
      "nan\n",
      "nan\n"
     ]
    },
    {
     "name": "stderr",
     "output_type": "stream",
     "text": [
      "C:\\Programming\\Anaconda\\lib\\site-packages\\numpy\\lib\\function_base.py:3142: RuntimeWarning: Invalid value encountered in median\n",
      "  RuntimeWarning)\n"
     ]
    }
   ],
   "source": [
    "a = np.array([100,np.nan,101,99,100,100])\n",
    "\n",
    "print('#'*20 + ' DER ' + '#'*20)\n",
    "print('Without nan')\n",
    "snr7 = DER_SNR(a, ignore_nan_inf=True)\n",
    "print(snr7.signal)\n",
    "print(snr7.noise)\n",
    "print(snr7.snr)\n",
    "\n",
    "print('With nan')\n",
    "snr8 = DER_SNR(a, ignore_nan_inf=False)\n",
    "print(snr8.signal)\n",
    "print(snr8.noise)\n",
    "print(snr8.snr)\n",
    "\n",
    "print('#'*20 + ' RMSE ' + '#'*20)\n",
    "print('Without nan')\n",
    "snr9 = RMSE_SNR(100, a, ignore_nan_inf=True)\n",
    "print(snr9.signal)\n",
    "print(snr9.noise)\n",
    "print(snr9.snr)\n",
    "\n",
    "print('With nan')\n",
    "snr10 = RMSE_SNR(100, a, ignore_nan_inf=False)\n",
    "print(snr10.signal)\n",
    "print(snr10.noise)\n",
    "print(snr10.snr)"
   ]
  },
  {
   "cell_type": "code",
   "execution_count": 7,
   "metadata": {
    "collapsed": false
   },
   "outputs": [
    {
     "name": "stdout",
     "output_type": "stream",
     "text": [
      "#################### DER ####################\n",
      "Without inf\n",
      "100.0\n",
      "1.2105394\n",
      "82.6078027696\n",
      "With inf\n",
      "100.0\n",
      "inf\n",
      "0.0\n",
      "#################### RMSE ####################\n",
      "Without inf\n",
      "100\n",
      "0.632455532034\n",
      "158.113883008\n",
      "With inf\n",
      "100\n",
      "inf\n",
      "0.0\n"
     ]
    }
   ],
   "source": [
    "a = np.array([100,np.inf,101,99,100,100])\n",
    "\n",
    "print('#'*20 + ' DER ' + '#'*20)\n",
    "print('Without inf')\n",
    "snr11 = DER_SNR(a, ignore_nan_inf=True)\n",
    "print(snr11.signal)\n",
    "print(snr11.noise)\n",
    "print(snr11.snr)\n",
    "\n",
    "print('With inf')\n",
    "snr12 = DER_SNR(a, ignore_nan_inf=False)\n",
    "print(snr12.signal)\n",
    "print(snr12.noise)\n",
    "print(snr12.snr)\n",
    "\n",
    "print('#'*20 + ' RMSE ' + '#'*20)\n",
    "print('Without inf')\n",
    "snr13 = RMSE_SNR(100, a, ignore_nan_inf=True)\n",
    "print(snr13.signal)\n",
    "print(snr13.noise)\n",
    "print(snr13.snr)\n",
    "\n",
    "print('With inf')\n",
    "snr13 = RMSE_SNR(100, a, ignore_nan_inf=False)\n",
    "print(snr13.signal)\n",
    "print(snr13.noise)\n",
    "print(snr13.snr)"
   ]
  },
  {
   "cell_type": "markdown",
   "metadata": {},
   "source": [
    "## Ignore_masked:"
   ]
  },
  {
   "cell_type": "code",
   "execution_count": 8,
   "metadata": {
    "collapsed": false
   },
   "outputs": [
    {
     "name": "stdout",
     "output_type": "stream",
     "text": [
      "#################### DER ####################\n",
      "Without masked\n",
      "100.0\n",
      "1.2105394\n",
      "82.6078027696\n",
      "With masked\n",
      "100.0\n",
      "31.4740244\n",
      "3.17722318345\n",
      "#################### RMSE ####################\n",
      "Without masked\n",
      "100\n",
      "0.632455532034\n",
      "158.113883008\n",
      "With masked\n",
      "100\n",
      "40.8289113252\n",
      "2.44924483055\n"
     ]
    }
   ],
   "source": [
    "a = np.ma.array([100,200,101,99,100,100], mask=[0,1,0,0,0,0])\n",
    "\n",
    "print('#'*20 + ' DER ' + '#'*20)\n",
    "print('Without masked')\n",
    "snr14 = DER_SNR(a, ignore_masked=True)\n",
    "print(snr14.signal)\n",
    "print(snr14.noise)\n",
    "print(snr14.snr)\n",
    "\n",
    "print('With masked')\n",
    "snr15 = DER_SNR(a, ignore_masked=False)\n",
    "print(snr15.signal)\n",
    "print(snr15.noise)\n",
    "print(snr15.snr)\n",
    "\n",
    "print('#'*20 + ' RMSE ' + '#'*20)\n",
    "print('Without masked')\n",
    "snr16 = RMSE_SNR(100, a, ignore_masked=True)\n",
    "print(snr16.signal)\n",
    "print(snr16.noise)\n",
    "print(snr16.snr)\n",
    "\n",
    "print('With masked')\n",
    "snr17 = RMSE_SNR(100, a, ignore_masked=False)\n",
    "print(snr17.signal)\n",
    "print(snr17.noise)\n",
    "print(snr17.snr)"
   ]
  },
  {
   "cell_type": "markdown",
   "metadata": {},
   "source": [
    "## Verbose:"
   ]
  },
  {
   "cell_type": "code",
   "execution_count": 9,
   "metadata": {
    "collapsed": false
   },
   "outputs": [
    {
     "name": "stdout",
     "output_type": "stream",
     "text": [
      "#################### DER ####################\n",
      "Deleting masked values.\n",
      "Deleting values of 0.\n",
      "Deleting NaN and Inf values.\n",
      "100.0\n",
      "1.2105394\n",
      "82.6078027696\n"
     ]
    }
   ],
   "source": [
    "a = np.ma.array([100,200,101,99,100,100], mask=[0,1,0,0,0,0])\n",
    "\n",
    "print('#'*20 + ' DER ' + '#'*20)\n",
    "snr18 = DER_SNR(a, verbose=True)\n",
    "print(snr18.signal)\n",
    "print(snr18.noise)\n",
    "print(snr18.snr)"
   ]
  }
 ],
 "metadata": {
  "kernelspec": {
   "display_name": "Python 3",
   "language": "python",
   "name": "python3"
  },
  "language_info": {
   "codemirror_mode": {
    "name": "ipython",
    "version": 3
   },
   "file_extension": ".py",
   "mimetype": "text/x-python",
   "name": "python",
   "nbconvert_exporter": "python",
   "pygments_lexer": "ipython3",
   "version": "3.5.1"
  }
 },
 "nbformat": 4,
 "nbformat_minor": 0
}
