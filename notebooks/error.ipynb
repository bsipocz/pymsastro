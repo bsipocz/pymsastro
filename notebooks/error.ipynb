{
 "cells": [
  {
   "cell_type": "markdown",
   "metadata": {},
   "source": [
    "# Error Measurements\n",
    "\n",
    "There are several different methods to calculate the error of a measurement om comparison to a\n",
    "theoretical (or approximated value):\n",
    "\n",
    "## General Error\n",
    "\n",
    "- \"signed error\" (also \"error\"): $$measurement - theoretical$$\n",
    "- \"absolute error\": $$abs(measurement - theoretical)$$\n",
    "\n",
    "## Relative Error\n",
    "\n",
    "based on these there are several other quantities (they are possible for signed and absolute errors)\n",
    "\n",
    "- \"relative error\": $$error \\div theoretical$$\n",
    "- \"percentage error\": $$100 \\times error \\div theoretical$$\n",
    "\n",
    "## Squared Error\n",
    "\n",
    "and several more advanced error definitions (based on square):\n",
    "\n",
    "- \"square_error\", \"square_relative_error\"\n",
    "- \"mean_square_error\" (also \"mse\"), \"mean_square_relative_error\"\n",
    "- \"root_mean_square_error\" (also \"rmse\"), \"root_mean_square_relative_error\" (also \"rmse_rel\")\n",
    "- \"median_square_error\", \"median_square_relative_error\"\n",
    "- \"sum_square_error\" (also avaible under \"residual_sum_of_squares\" or \"rss\"), \"sum_square_relative_error\"\n",
    "\n",
    "## Mean Error\n",
    "\n",
    "- \"mean_signed_error\", \"mean_absolute_error\"\n",
    "- \"mean_relative_signed_error\", \"mean_relative_absolute_error\"\n",
    "- \"mean_percentage_signed_error\", mean_percentage_absolute_error\"\n",
    "\n",
    "## Median Error\n",
    "\n",
    "- \"median_signed_error\", \"median_absolute_error\", \"median_absolute_standard_deviation\"\n",
    "- \"median_relative_signed_error\", \"median_relative_absolute_error\"\n",
    "- \"median_percentage_signed_error\", \"median_percentage_absolute_error\""
   ]
  },
  {
   "cell_type": "code",
   "execution_count": 1,
   "metadata": {
    "collapsed": false
   },
   "outputs": [],
   "source": [
    "from pymsastro.stats import *"
   ]
  },
  {
   "cell_type": "markdown",
   "metadata": {
    "collapsed": false
   },
   "source": [
    "For simplicity I'll create a function that will call all the error functions and displays the result at the end"
   ]
  },
  {
   "cell_type": "code",
   "execution_count": 2,
   "metadata": {
    "collapsed": true
   },
   "outputs": [],
   "source": [
    "# For simplicity I'll make a function that calls each error calculation function and prints the result\n",
    "def make_error_computation(measured, theory):\n",
    "    error = [signed_error, absolute_error,\n",
    "             relative_signed_error, relative_absolute_error,\n",
    "             percentage_signed_error, percentage_absolute_error,\n",
    "             square_error, square_relative_error,\n",
    "             mean_square_error, mean_square_relative_error,\n",
    "             root_mean_square_error, root_mean_square_relative_error,\n",
    "             median_square_error, median_square_relative_error,\n",
    "             sum_square_error, sum_square_relative_error,\n",
    "             mean_signed_error, mean_absolute_error,\n",
    "             mean_relative_signed_error, mean_relative_absolute_error,\n",
    "             mean_percentage_signed_error, mean_percentage_absolute_error,\n",
    "             median_signed_error, median_absolute_error, median_absolute_standard_deviation,\n",
    "             median_relative_signed_error, median_relative_absolute_error,\n",
    "             median_percentage_signed_error, median_percentage_absolute_error]\n",
    "\n",
    "    for i in error:\n",
    "        print(\"{0}: {1}\".format(i.__name__, i(measured, theory)))"
   ]
  },
  {
   "cell_type": "markdown",
   "metadata": {},
   "source": [
    "Now let's have some try. Suppose we have a measurement of something that has a theoretical value of 100. The value is measured once with 101."
   ]
  },
  {
   "cell_type": "code",
   "execution_count": 3,
   "metadata": {
    "collapsed": false
   },
   "outputs": [
    {
     "name": "stdout",
     "output_type": "stream",
     "text": [
      "signed_error: 1\n",
      "absolute_error: 1\n",
      "relative_signed_error: 0.01\n",
      "relative_absolute_error: 0.01\n",
      "percentage_signed_error: 1.0\n",
      "percentage_absolute_error: 1.0\n",
      "square_error: 1\n",
      "square_relative_error: 0.0001\n",
      "mean_square_error: 1.0\n",
      "mean_square_relative_error: 0.0001\n",
      "root_mean_square_error: 1.0\n",
      "root_mean_square_relative_error: 0.01\n",
      "median_square_error: 1.0\n",
      "median_square_relative_error: 0.0001\n",
      "sum_square_error: 1\n",
      "sum_square_relative_error: 0.0001\n",
      "mean_signed_error: 1.0\n",
      "mean_absolute_error: 1.0\n",
      "mean_relative_signed_error: 0.01\n",
      "mean_relative_absolute_error: 0.01\n",
      "mean_percentage_signed_error: 1.0\n",
      "mean_percentage_absolute_error: 1.0\n",
      "median_signed_error: 1.0\n",
      "median_absolute_error: 1.0\n",
      "median_absolute_standard_deviation: 1.482602218505602\n",
      "median_relative_signed_error: 0.01\n",
      "median_relative_absolute_error: 0.01\n",
      "median_percentage_signed_error: 1.0\n",
      "median_percentage_absolute_error: 1.0\n"
     ]
    }
   ],
   "source": [
    "theory = 100\n",
    "measurement = 101\n",
    "\n",
    "make_error_computation(measurement, theory)"
   ]
  },
  {
   "cell_type": "markdown",
   "metadata": {},
   "source": [
    "Okay most of them are the same and very little happens here. So we measure the value again and this time it is 98."
   ]
  },
  {
   "cell_type": "code",
   "execution_count": 4,
   "metadata": {
    "collapsed": false
   },
   "outputs": [
    {
     "name": "stdout",
     "output_type": "stream",
     "text": [
      "signed_error: -2\n",
      "absolute_error: 2\n",
      "relative_signed_error: -0.02\n",
      "relative_absolute_error: 0.02\n",
      "percentage_signed_error: -2.0\n",
      "percentage_absolute_error: 2.0\n",
      "square_error: 4\n",
      "square_relative_error: 0.0004\n",
      "mean_square_error: 4.0\n",
      "mean_square_relative_error: 0.0004\n",
      "root_mean_square_error: 2.0\n",
      "root_mean_square_relative_error: 0.02\n",
      "median_square_error: 4.0\n",
      "median_square_relative_error: 0.0004\n",
      "sum_square_error: 4\n",
      "sum_square_relative_error: 0.0004\n",
      "mean_signed_error: -2.0\n",
      "mean_absolute_error: 2.0\n",
      "mean_relative_signed_error: -0.02\n",
      "mean_relative_absolute_error: 0.02\n",
      "mean_percentage_signed_error: -2.0\n",
      "mean_percentage_absolute_error: 2.0\n",
      "median_signed_error: -2.0\n",
      "median_absolute_error: 2.0\n",
      "median_absolute_standard_deviation: 2.965204437011204\n",
      "median_relative_signed_error: -0.02\n",
      "median_relative_absolute_error: 0.02\n",
      "median_percentage_signed_error: -2.0\n",
      "median_percentage_absolute_error: 2.0\n"
     ]
    }
   ],
   "source": [
    "theory = 100\n",
    "measurement = 98\n",
    "\n",
    "make_error_computation(measurement, theory)"
   ]
  },
  {
   "cell_type": "markdown",
   "metadata": {},
   "source": [
    "At least this time the difference between signed and absolute errors is visible but it is still mostly the same value. But what happens if we include both measured values?\n",
    "\n",
    "I'll use a numpy array to include both measurements."
   ]
  },
  {
   "cell_type": "code",
   "execution_count": 5,
   "metadata": {
    "collapsed": false
   },
   "outputs": [
    {
     "name": "stdout",
     "output_type": "stream",
     "text": [
      "signed_error: [ 1 -2]\n",
      "absolute_error: [1 2]\n",
      "relative_signed_error: [ 0.01 -0.02]\n",
      "relative_absolute_error: [ 0.01  0.02]\n",
      "percentage_signed_error: [ 1. -2.]\n",
      "percentage_absolute_error: [ 1.  2.]\n",
      "square_error: [1 4]\n",
      "square_relative_error: [ 0.0001  0.0004]\n",
      "mean_square_error: 2.5\n",
      "mean_square_relative_error: 0.00025\n",
      "root_mean_square_error: 1.5811388300841898\n",
      "root_mean_square_relative_error: 0.015811388300841896\n",
      "median_square_error: 2.5\n",
      "median_square_relative_error: 0.00025\n",
      "sum_square_error: 5\n",
      "sum_square_relative_error: 0.0005\n",
      "mean_signed_error: -0.5\n",
      "mean_absolute_error: 1.5\n",
      "mean_relative_signed_error: -0.005\n",
      "mean_relative_absolute_error: 0.015\n",
      "mean_percentage_signed_error: -0.5\n",
      "mean_percentage_absolute_error: 1.5\n",
      "median_signed_error: -0.5\n",
      "median_absolute_error: 1.5\n",
      "median_absolute_standard_deviation: 2.223903327758403\n",
      "median_relative_signed_error: -0.005\n",
      "median_relative_absolute_error: 0.015\n",
      "median_percentage_signed_error: -0.5\n",
      "median_percentage_absolute_error: 1.5\n"
     ]
    }
   ],
   "source": [
    "import numpy as np\n",
    "theory = 100\n",
    "measurement = np.array([101, 98])\n",
    "\n",
    "make_error_computation(measurement, theory)"
   ]
  },
  {
   "cell_type": "markdown",
   "metadata": {},
   "source": [
    "Okay that's more like a statistic. But since we have the experiment up and running we will start measuring the value much more often. Suppose a million times.\n",
    "\n",
    "Instead of typing all different measurements I'll use the pseudo-random number generator of numpy with a normal distributed value of 100 and a standard deviation of 3 and we'll measure it a million times."
   ]
  },
  {
   "cell_type": "code",
   "execution_count": 6,
   "metadata": {
    "collapsed": false
   },
   "outputs": [
    {
     "name": "stdout",
     "output_type": "stream",
     "text": [
      "signed_error: [ 1.16527651 -0.08337375 -7.45906215 ...,  4.26315362  3.11122232\n",
      " -0.89184867]\n",
      "absolute_error: [ 1.16527651  0.08337375  7.45906215 ...,  4.26315362  3.11122232\n",
      "  0.89184867]\n",
      "relative_signed_error: [ 0.01165277 -0.00083374 -0.07459062 ...,  0.04263154  0.03111222\n",
      " -0.00891849]\n",
      "relative_absolute_error: [ 0.01165277  0.00083374  0.07459062 ...,  0.04263154  0.03111222\n",
      "  0.00891849]\n",
      "percentage_signed_error: [ 1.16527651 -0.08337375 -7.45906215 ...,  4.26315362  3.11122232\n",
      " -0.89184867]\n",
      "percentage_absolute_error: [ 1.16527651  0.08337375  7.45906215 ...,  4.26315362  3.11122232\n",
      "  0.89184867]\n",
      "square_error: [  1.35786935e+00   6.95118201e-03   5.56376081e+01 ...,   1.81744788e+01\n",
      "   9.67970433e+00   7.95394058e-01]\n",
      "square_relative_error: [  1.35786935e-04   6.95118201e-07   5.56376081e-03 ...,   1.81744788e-03\n",
      "   9.67970433e-04   7.95394058e-05]\n",
      "mean_square_error: 9.000956803600372\n",
      "mean_square_relative_error: 0.0009000956803600368\n",
      "root_mean_square_error: 3.0001594630286523\n",
      "root_mean_square_relative_error: 0.030001594630286517\n",
      "median_square_error: 4.081819497651615\n",
      "median_square_relative_error: 0.0004081819497651615\n",
      "sum_square_error: 9000956.803600373\n",
      "sum_square_relative_error: 900.0956803600368\n",
      "mean_signed_error: 0.0013461213963200664\n",
      "mean_absolute_error: 2.3923956122870913\n",
      "mean_relative_signed_error: 1.3461213963200663e-05\n",
      "mean_relative_absolute_error: 0.023923956122870915\n",
      "mean_percentage_signed_error: 0.001346121396320066\n",
      "mean_percentage_absolute_error: 2.3923956122870913\n",
      "median_signed_error: 0.00249425085579702\n",
      "median_absolute_error: 2.020351330251863\n",
      "median_absolute_standard_deviation: 2.9953773643921564\n",
      "median_relative_signed_error: 2.49425085579702e-05\n",
      "median_relative_absolute_error: 0.020203513302518628\n",
      "median_percentage_signed_error: 0.00249425085579702\n",
      "median_percentage_absolute_error: 2.020351330251863\n"
     ]
    }
   ],
   "source": [
    "theory = 100\n",
    "measurement = np.random.normal(100, 3, 1000000)\n",
    "\n",
    "make_error_computation(measurement, theory)"
   ]
  },
  {
   "cell_type": "markdown",
   "metadata": {},
   "source": [
    "Now this is more like a statistic and some quantities are very handy to have.\n",
    "\n",
    "- The ``root_mean_square_error`` is almost 3. Which is just the standard deviation of our random number generator. So this can be used as a measurement for the standard-deviation.\n",
    "\n",
    "- The ``mean_square_error`` is the square of the ``root_mean_square_error`` and since we identified the latter as standard-deviation approximation the square of it must be the variance. A difference between the mean_squared_error and the variance would be identified as the BIAS of the measurement.\n",
    "\n",
    "- Apart from the ``root_mean_square_error`` the ``median_absolute_error`` is also an approximator for the standard deviation but since the median has some other characteristics than the mean we have to multiply it by approximatly 1.4826 (see https://en.wikipedia.org/wiki/Median_absolute_deviation) for an explanation. This ``median_absolute_standard_deviation`` estimator is also included.\n",
    "\n",
    "- The ``mean_absolute_difference`` is a measurement for the statistical dispersion.\n",
    "\n",
    "- The ``mean_signed_error`` and ``median_signed_error`` are a measurement for the goodness of the measured value to the arithmetic mean or median of the sample. A value of zero or close to zero means that the mean/median of the sample is very similar to the theoretical value.\n",
    "\n",
    "- The ``mean_percentage_error`` gives the average percentage of difference for each measurement.\n",
    "\n",
    "- Another important quantity is the ``root_mean_square_relative_error`` since the inverse of it would give the *signal-to-noise ratio*"
   ]
  },
  {
   "cell_type": "markdown",
   "metadata": {},
   "source": [
    "But another example where most statistic packages I know give strange results: If the theoretical value is negative. It will not happen often (rather very rare) but these error measurements can cope with it.\n",
    "\n",
    "Suppose now we have a theoretical value of -100 and measure -95"
   ]
  },
  {
   "cell_type": "code",
   "execution_count": 7,
   "metadata": {
    "collapsed": false
   },
   "outputs": [
    {
     "name": "stdout",
     "output_type": "stream",
     "text": [
      "signed_error: 5\n",
      "absolute_error: 5\n",
      "relative_signed_error: 0.05\n",
      "relative_absolute_error: 0.05\n",
      "percentage_signed_error: 5.0\n",
      "percentage_absolute_error: 5.0\n",
      "square_error: 25\n",
      "square_relative_error: 0.0025000000000000005\n",
      "mean_square_error: 25.0\n",
      "mean_square_relative_error: 0.0025000000000000005\n",
      "root_mean_square_error: 5.0\n",
      "root_mean_square_relative_error: 0.05\n",
      "median_square_error: 25.0\n",
      "median_square_relative_error: 0.0025000000000000005\n",
      "sum_square_error: 25\n",
      "sum_square_relative_error: 0.0025000000000000005\n",
      "mean_signed_error: 5.0\n",
      "mean_absolute_error: 5.0\n",
      "mean_relative_signed_error: 0.05\n",
      "mean_relative_absolute_error: 0.05\n",
      "mean_percentage_signed_error: 5.0\n",
      "mean_percentage_absolute_error: 5.0\n",
      "median_signed_error: 5.0\n",
      "median_absolute_error: 5.0\n",
      "median_absolute_standard_deviation: 7.41301109252801\n",
      "median_relative_signed_error: 0.05\n",
      "median_relative_absolute_error: 0.05\n",
      "median_percentage_signed_error: 5.0\n",
      "median_percentage_absolute_error: 5.0\n"
     ]
    }
   ],
   "source": [
    "theory = -100\n",
    "measurement = -95\n",
    "\n",
    "make_error_computation(measurement, theory)"
   ]
  },
  {
   "cell_type": "markdown",
   "metadata": {},
   "source": [
    "Works as expected. Just to be on the safe side we measure -102 for the same quantity."
   ]
  },
  {
   "cell_type": "code",
   "execution_count": 8,
   "metadata": {
    "collapsed": false
   },
   "outputs": [
    {
     "name": "stdout",
     "output_type": "stream",
     "text": [
      "signed_error: -2\n",
      "absolute_error: 2\n",
      "relative_signed_error: -0.02\n",
      "relative_absolute_error: 0.02\n",
      "percentage_signed_error: -2.0\n",
      "percentage_absolute_error: 2.0\n",
      "square_error: 4\n",
      "square_relative_error: 0.0004\n",
      "mean_square_error: 4.0\n",
      "mean_square_relative_error: 0.0004\n",
      "root_mean_square_error: 2.0\n",
      "root_mean_square_relative_error: 0.02\n",
      "median_square_error: 4.0\n",
      "median_square_relative_error: 0.0004\n",
      "sum_square_error: 4\n",
      "sum_square_relative_error: 0.0004\n",
      "mean_signed_error: -2.0\n",
      "mean_absolute_error: 2.0\n",
      "mean_relative_signed_error: -0.02\n",
      "mean_relative_absolute_error: 0.02\n",
      "mean_percentage_signed_error: -2.0\n",
      "mean_percentage_absolute_error: 2.0\n",
      "median_signed_error: -2.0\n",
      "median_absolute_error: 2.0\n",
      "median_absolute_standard_deviation: 2.965204437011204\n",
      "median_relative_signed_error: -0.02\n",
      "median_relative_absolute_error: 0.02\n",
      "median_percentage_signed_error: -2.0\n",
      "median_percentage_absolute_error: 2.0\n"
     ]
    }
   ],
   "source": [
    "theory = -100\n",
    "measurement = -102\n",
    "\n",
    "make_error_computation(measurement, theory)"
   ]
  },
  {
   "cell_type": "markdown",
   "metadata": {
    "collapsed": false
   },
   "source": [
    "It works even if you have a theoretical negative value and measure a positive value (or vise-versa)"
   ]
  },
  {
   "cell_type": "code",
   "execution_count": 9,
   "metadata": {
    "collapsed": false
   },
   "outputs": [
    {
     "name": "stdout",
     "output_type": "stream",
     "text": [
      "signed_error: 3\n",
      "absolute_error: 3\n",
      "relative_signed_error: 1.5\n",
      "relative_absolute_error: 1.5\n",
      "percentage_signed_error: 150.0\n",
      "percentage_absolute_error: 150.0\n",
      "square_error: 9\n",
      "square_relative_error: 2.25\n",
      "mean_square_error: 9.0\n",
      "mean_square_relative_error: 2.25\n",
      "root_mean_square_error: 3.0\n",
      "root_mean_square_relative_error: 1.5\n",
      "median_square_error: 9.0\n",
      "median_square_relative_error: 2.25\n",
      "sum_square_error: 9\n",
      "sum_square_relative_error: 2.25\n",
      "mean_signed_error: 3.0\n",
      "mean_absolute_error: 3.0\n",
      "mean_relative_signed_error: 1.5\n",
      "mean_relative_absolute_error: 1.5\n",
      "mean_percentage_signed_error: 150.0\n",
      "mean_percentage_absolute_error: 150.0\n",
      "median_signed_error: 3.0\n",
      "median_absolute_error: 3.0\n",
      "median_absolute_standard_deviation: 4.447806655516806\n",
      "median_relative_signed_error: 1.5\n",
      "median_relative_absolute_error: 1.5\n",
      "median_percentage_signed_error: 150.0\n",
      "median_percentage_absolute_error: 150.0\n"
     ]
    }
   ],
   "source": [
    "theory = -2\n",
    "measurement = 1\n",
    "\n",
    "make_error_computation(measurement, theory)"
   ]
  },
  {
   "cell_type": "markdown",
   "metadata": {
    "collapsed": false
   },
   "source": [
    "# Other measurement functions\n",
    "\n",
    "There are some functions included that are not strictly about errors. These include:\n",
    "\n",
    "- \"root_mean_square\" (also \"rms\"): The RMS of an array\n",
    "- \"sum_square\" (also \"ss\", \"sum_of_squares\"): The sum of the squares of an array\n",
    "- \"root_sum_square\": The square root of the sum_square\n",
    "\n",
    "# Also different \"mean\" methods are imported from numpy, scipy:\n",
    "\n",
    "- \"arithmetic_mean\": \"numpy.mean\"\n",
    "- \"quadratic_mean\": \"root_mean_square\"\n",
    "- \"harmonic_mean\": \"scipy.stats.hmean\"\n",
    "- \"geometric_mean\": \"scipy.stats.gmean\""
   ]
  },
  {
   "cell_type": "markdown",
   "metadata": {},
   "source": [
    "For simplicity I'll make a function that calls each calculation function and prints the result like I did with the errors."
   ]
  },
  {
   "cell_type": "code",
   "execution_count": 10,
   "metadata": {
    "collapsed": false
   },
   "outputs": [],
   "source": [
    "def make_other_computation(measured):\n",
    "    other = [root_mean_square, sum_square, root_sum_square,\n",
    "             arithmetic_mean, quadratic_mean, harmonic_mean, geometric_mean]\n",
    "\n",
    "    for i in other:\n",
    "        try:\n",
    "            print(\"{0}: {1}\".format(i.__name__, i(measured)))\n",
    "        except IndexError:\n",
    "            print(\"{0} cannot be used with this input.\".format(i.__name__))"
   ]
  },
  {
   "cell_type": "markdown",
   "metadata": {},
   "source": [
    "Since part of these functions are defined by scipy and numpy they might not accept single values:"
   ]
  },
  {
   "cell_type": "code",
   "execution_count": 11,
   "metadata": {
    "collapsed": false
   },
   "outputs": [
    {
     "name": "stdout",
     "output_type": "stream",
     "text": [
      "root_mean_square: 100.0\n",
      "sum_square: 10000\n",
      "root_sum_square: 100.0\n",
      "arithmetic_mean: 100.0\n",
      "root_mean_square: 100.0\n",
      "harmonic_mean cannot be used with this input.\n",
      "geometric_mean cannot be used with this input.\n"
     ]
    }
   ],
   "source": [
    "measurement = 100\n",
    "make_other_computation(measurement)"
   ]
  },
  {
   "cell_type": "markdown",
   "metadata": {},
   "source": [
    "But all of these work with arrays"
   ]
  },
  {
   "cell_type": "code",
   "execution_count": 12,
   "metadata": {
    "collapsed": false
   },
   "outputs": [
    {
     "name": "stdout",
     "output_type": "stream",
     "text": [
      "root_mean_square: 2.160246899469287\n",
      "sum_square: 14\n",
      "root_sum_square: 3.7416573867739413\n",
      "arithmetic_mean: 2.0\n",
      "root_mean_square: 2.160246899469287\n",
      "harmonic_mean: 1.6363636363636365\n",
      "geometric_mean: 1.8171205928321397\n"
     ]
    }
   ],
   "source": [
    "measurement = np.array([1,2,3])\n",
    "make_other_computation(measurement)"
   ]
  },
  {
   "cell_type": "markdown",
   "metadata": {},
   "source": [
    "and again with a different array:"
   ]
  },
  {
   "cell_type": "code",
   "execution_count": 13,
   "metadata": {
    "collapsed": false
   },
   "outputs": [
    {
     "name": "stdout",
     "output_type": "stream",
     "text": [
      "root_mean_square: 2.160246899469287\n",
      "sum_square: 28\n",
      "root_sum_square: 5.291502622129181\n",
      "arithmetic_mean: 2.0\n",
      "root_mean_square: 2.160246899469287\n",
      "harmonic_mean: 1.6363636363636365\n",
      "geometric_mean: 1.8171205928321397\n"
     ]
    }
   ],
   "source": [
    "measurement = np.array([1,2,3,3,2,1])\n",
    "make_other_computation(measurement)"
   ]
  },
  {
   "cell_type": "markdown",
   "metadata": {
    "collapsed": true
   },
   "source": [
    "# Benchmarks\n",
    "Python functions cause overhead so for single elements it slows down the code (up to 15x slower)\n",
    "Also the functions are optimized to allow for negative theoretical values and more, so\n",
    "sometimes there are unnecessary calls to abs() which could be avoided if you can exclude that\n",
    "theoretical values could be negative.\n",
    "\n",
    "But as speed does not always matter, sometimes having more descriptive names is better in\n",
    "understanding the code you have written years ago.\n",
    "\n",
    "So using these functions is limited to cases where:\n",
    "- speed does not matter\n",
    "- a more descriptive function is more comprehensable than just writing the operation\n",
    "- arrays are used.\n",
    "\n",
    "- you are not always sure where the absolutes have to be (like me) ... :-)  but I'm not the only one http://mathworld.wolfram.com/RelativeDeviation.html gives the relative deviation as \"abs(measured-theory)/theory\" but it should be \"abs((measured-theory)/theory)\" if we allow theoretical values below 0... not quite often but it happens."
   ]
  },
  {
   "cell_type": "markdown",
   "metadata": {},
   "source": [
    "## Signed Error Computation difference\n",
    "Error function is 7-8 times slower."
   ]
  },
  {
   "cell_type": "code",
   "execution_count": 14,
   "metadata": {
    "collapsed": false
   },
   "outputs": [
    {
     "name": "stdout",
     "output_type": "stream",
     "text": [
      "10000000 loops, best of 3: 60.7 ns per loop\n",
      "The slowest run took 8.81 times longer than the fastest. This could mean that an intermediate result is being cached \n",
      "1000000 loops, best of 3: 444 ns per loop\n"
     ]
    }
   ],
   "source": [
    "%timeit 100-98\n",
    "%timeit signed_error(100,98)\n",
    "assert 100-98 == signed_error(100,98)"
   ]
  },
  {
   "cell_type": "markdown",
   "metadata": {},
   "source": [
    "## Relative Signed Error Computation difference\n",
    "Error function is 10 times slower."
   ]
  },
  {
   "cell_type": "code",
   "execution_count": 15,
   "metadata": {
    "collapsed": false
   },
   "outputs": [
    {
     "name": "stdout",
     "output_type": "stream",
     "text": [
      "The slowest run took 18.36 times longer than the fastest. This could mean that an intermediate result is being cached \n",
      "10000000 loops, best of 3: 60.9 ns per loop\n",
      "The slowest run took 7.61 times longer than the fastest. This could mean that an intermediate result is being cached \n",
      "1000000 loops, best of 3: 734 ns per loop\n"
     ]
    }
   ],
   "source": [
    "%timeit (98-100)/100\n",
    "%timeit relative_signed_error(98, 100)\n",
    "import numpy as np\n",
    "assert (98-100)/100 == relative_signed_error(98, 100)"
   ]
  },
  {
   "cell_type": "markdown",
   "metadata": {},
   "source": [
    "## Percentage Signed Error Computation difference\n",
    "Error function is 15 times slower."
   ]
  },
  {
   "cell_type": "code",
   "execution_count": 16,
   "metadata": {
    "collapsed": false
   },
   "outputs": [
    {
     "name": "stdout",
     "output_type": "stream",
     "text": [
      "10000000 loops, best of 3: 60.6 ns per loop\n",
      "The slowest run took 7.71 times longer than the fastest. This could mean that an intermediate result is being cached \n",
      "1000000 loops, best of 3: 870 ns per loop\n"
     ]
    }
   ],
   "source": [
    "%timeit 100*(98-100)/100\n",
    "%timeit percentage_signed_error(98, 100)\n",
    "assert 100*(98-100)/100 == percentage_signed_error(98, 100)"
   ]
  },
  {
   "cell_type": "markdown",
   "metadata": {},
   "source": [
    "## Percentage Signed Error Computation difference with Arrays\n",
    "Error function is only a little slower (even for a 1-element array) due to numpy array overhead."
   ]
  },
  {
   "cell_type": "code",
   "execution_count": 17,
   "metadata": {
    "collapsed": false
   },
   "outputs": [
    {
     "name": "stdout",
     "output_type": "stream",
     "text": [
      "100000 loops, best of 3: 15.2 µs per loop\n",
      "10000 loops, best of 3: 20.4 µs per loop\n"
     ]
    }
   ],
   "source": [
    "a = np.ones(1) * 98\n",
    "b = np.ones(1) * 100\n",
    "%timeit 100*(a-b)/b\n",
    "%timeit percentage_signed_error(a, b)"
   ]
  }
 ],
 "metadata": {
  "kernelspec": {
   "display_name": "Python 3",
   "language": "python",
   "name": "python3"
  },
  "language_info": {
   "codemirror_mode": {
    "name": "ipython",
    "version": 3
   },
   "file_extension": ".py",
   "mimetype": "text/x-python",
   "name": "python",
   "nbconvert_exporter": "python",
   "pygments_lexer": "ipython3",
   "version": "3.5.1"
  }
 },
 "nbformat": 4,
 "nbformat_minor": 0
}
